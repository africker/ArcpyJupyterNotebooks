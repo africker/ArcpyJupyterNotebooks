{
 "cells": [
  {
   "cell_type": "code",
   "execution_count": 14,
   "metadata": {},
   "outputs": [],
   "source": [
    "\"\"\"This notebook is used to extract canopy cover statistics \n",
    "from the NLCD canopy cover estimates at 30 m spatial resolution\n",
    "In this case we use the 2011 data, but it could be replaced with a different version (year)\n",
    "https://www.mrlc.gov/data?f%5B0%5D=category%3Atree%20canopy\n",
    "\n",
    "Zip Codes Shapefile was obtained from the Stanford University portal\n",
    "https://earthworks.stanford.edu/catalog/stanford-dc841dq9031\n",
    "Author: G. Andrew Fricker (Cal Poly Geography)\n",
    "Date: 6/13/2020\n",
    "\"\"\"\n",
    "\n",
    "import arcpy, os"
   ]
  },
  {
   "cell_type": "code",
   "execution_count": 19,
   "metadata": {},
   "outputs": [],
   "source": [
    "#Set Environment Variables, download and set working directories to your local system\n",
    "CC_folder = r\"D:\\OneDrive - California Polytechnic State University\\02_RESEARCH_PROJECTS\\20_UrbanTrees\\Data\\CanopyCover\\nlcd_2011_treecanopy_2019_08_31\"\n",
    "Zips_folder = r\"D:\\OneDrive - California Polytechnic State University\\02_RESEARCH_PROJECTS\\20_UrbanTrees\\Data\\Vectors\"\n",
    "outFolder = r\"D:\\OneDrive - California Polytechnic State University\\02_RESEARCH_PROJECTS\\20_UrbanTrees\\Data\\CanopyCover\\out\"\n",
    "\n",
    "CC = CC_folder + os.sep +  \"nlcd_2011_treecanopy_2019_08_31.img\"\n",
    "Zips = Zips_folder + os.sep + \"dc841dq9031_Clean.shp\"\n",
    "outTable = outFolder + os.sep + \"ZipsCC.dbf\"\n",
    "outFC = \"dc841dq9031_Clean_CCjoin.shp\"\n",
    "outCSV = \"ZipsCC.csv\""
   ]
  },
  {
   "cell_type": "code",
   "execution_count": 20,
   "metadata": {},
   "outputs": [
    {
     "data": {
      "text/plain": [
       "<geoprocessing server result object object at 0x00000239D41EEBC0>"
      ]
     },
     "execution_count": 20,
     "metadata": {},
     "output_type": "execute_result"
    }
   ],
   "source": [
    "arcpy.env.overwriteOutput = True\n",
    "arcpy.env.workspace = outFolder\n",
    "\n",
    "zoneField = \"zcta\"\n",
    "arcpy.sa.ZonalStatisticsAsTable(Zips, zoneField, CC, outTable, \"DATA\", \"ALL\", \"CURRENT_SLICE\")"
   ]
  },
  {
   "cell_type": "code",
   "execution_count": 21,
   "metadata": {},
   "outputs": [
    {
     "data": {
      "text/plain": [
       "<Result 'D:\\\\OneDrive - California Polytechnic State University\\\\02_RESEARCH_PROJECTS\\\\20_UrbanTrees\\\\Data\\\\CanopyCover\\\\out\\\\dc841dq9031_Clean_CCjoin.shp'>"
      ]
     },
     "execution_count": 21,
     "metadata": {},
     "output_type": "execute_result"
    }
   ],
   "source": [
    "#Join Output Table to original Zips File\n",
    "arcpy.management.JoinField(Zips, zoneField, outTable, zoneField, None)\n",
    "arcpy.conversion.FeatureClassToFeatureClass(Zips, outFolder, outFC, '', 'zcta \"zcta\" true true false 254 Text 0 0,First,#,dc841dq9031_Clean,zcta,0,254;tot_pop \"tot_pop\" true true false 33 Double 15 32,First,#,dc841dq9031_Clean,tot_pop,-1,-1;zcta_1 \"zcta_1\" true true false 5 Text 0 0,First,#,dc841dq9031_Clean,zcta_1,0,5;ZONE_CODE \"ZONE_CODE\" true true false 10 Long 0 10,First,#,dc841dq9031_Clean,ZONE_CODE,-1,-1;COUNT \"COUNT\" true true false 10 Long 0 10,First,#,dc841dq9031_Clean,COUNT,-1,-1;AREA \"AREA\" true true false 19 Double 0 0,First,#,dc841dq9031_Clean,AREA,-1,-1;MIN \"MIN\" true true false 10 Long 0 10,First,#,dc841dq9031_Clean,MIN,-1,-1;MAX \"MAX\" true true false 10 Long 0 10,First,#,dc841dq9031_Clean,MAX,-1,-1;RANGE \"RANGE\" true true false 10 Long 0 10,First,#,dc841dq9031_Clean,RANGE,-1,-1;MEAN \"MEAN\" true true false 19 Double 0 0,First,#,dc841dq9031_Clean,MEAN,-1,-1;STD \"STD\" true true false 19 Double 0 0,First,#,dc841dq9031_Clean,STD,-1,-1;SUM \"SUM\" true true false 19 Double 0 0,First,#,dc841dq9031_Clean,SUM,-1,-1;VARIETY \"VARIETY\" true true false 10 Long 0 10,First,#,dc841dq9031_Clean,VARIETY,-1,-1;MAJORITY \"MAJORITY\" true true false 10 Long 0 10,First,#,dc841dq9031_Clean,MAJORITY,-1,-1;MINORITY \"MINORITY\" true true false 10 Long 0 10,First,#,dc841dq9031_Clean,MINORITY,-1,-1;MEDIAN \"MEDIAN\" true true false 10 Long 0 10,First,#,dc841dq9031_Clean,MEDIAN,-1,-1;zcta_12 \"zcta_12\" true true false 5 Text 0 0,First,#,dc841dq9031_Clean,zcta_12,0,5;ZONE_COD_1 \"ZONE_COD_1\" true true false 10 Long 0 10,First,#,dc841dq9031_Clean,ZONE_COD_1,-1,-1;COUNT_1 \"COUNT_1\" true true false 10 Long 0 10,First,#,dc841dq9031_Clean,COUNT_1,-1,-1;AREA_1 \"AREA_1\" true true false 19 Double 0 0,First,#,dc841dq9031_Clean,AREA_1,-1,-1;MIN_1 \"MIN_1\" true true false 10 Long 0 10,First,#,dc841dq9031_Clean,MIN_1,-1,-1;MAX_1 \"MAX_1\" true true false 10 Long 0 10,First,#,dc841dq9031_Clean,MAX_1,-1,-1;RANGE_1 \"RANGE_1\" true true false 10 Long 0 10,First,#,dc841dq9031_Clean,RANGE_1,-1,-1;MEAN_1 \"MEAN_1\" true true false 19 Double 0 0,First,#,dc841dq9031_Clean,MEAN_1,-1,-1;STD_1 \"STD_1\" true true false 19 Double 0 0,First,#,dc841dq9031_Clean,STD_1,-1,-1;SUM_1 \"SUM_1\" true true false 19 Double 0 0,First,#,dc841dq9031_Clean,SUM_1,-1,-1;VARIETY_1 \"VARIETY_1\" true true false 10 Long 0 10,First,#,dc841dq9031_Clean,VARIETY_1,-1,-1;MAJORITY_1 \"MAJORITY_1\" true true false 10 Long 0 10,First,#,dc841dq9031_Clean,MAJORITY_1,-1,-1;MINORITY_1 \"MINORITY_1\" true true false 10 Long 0 10,First,#,dc841dq9031_Clean,MINORITY_1,-1,-1;MEDIAN_1 \"MEDIAN_1\" true true false 10 Long 0 10,First,#,dc841dq9031_Clean,MEDIAN_1,-1,-1', '')\n"
   ]
  },
  {
   "cell_type": "code",
   "execution_count": 22,
   "metadata": {},
   "outputs": [
    {
     "name": "stdout",
     "output_type": "stream",
     "text": [
      "Done exporting Zips Canopy Cover CSV text file\n"
     ]
    }
   ],
   "source": [
    "#export CSV table\n",
    "arcpy.conversion.TableToTable(outFC, outFolder, outCSV, '', r'zcta \"zcta\" true true false 254 Text 0 0,First,#,D:\\OneDrive - California Polytechnic State University\\02_RESEARCH_PROJECTS\\20_UrbanTrees\\Data\\CanopyCover\\out\\dc841dq9031_Clean_CCjoin.shp,zcta,0,254;tot_pop \"tot_pop\" true true false 19 Double 15 18,First,#,D:\\OneDrive - California Polytechnic State University\\02_RESEARCH_PROJECTS\\20_UrbanTrees\\Data\\CanopyCover\\out\\dc841dq9031_Clean_CCjoin.shp,tot_pop,-1,-1;zcta_1 \"zcta_1\" true true false 5 Text 0 0,First,#,D:\\OneDrive - California Polytechnic State University\\02_RESEARCH_PROJECTS\\20_UrbanTrees\\Data\\CanopyCover\\out\\dc841dq9031_Clean_CCjoin.shp,zcta_1,0,5;ZONE_CODE \"ZONE_CODE\" true true false 10 Long 0 10,First,#,D:\\OneDrive - California Polytechnic State University\\02_RESEARCH_PROJECTS\\20_UrbanTrees\\Data\\CanopyCover\\out\\dc841dq9031_Clean_CCjoin.shp,ZONE_CODE,-1,-1;COUNT \"COUNT\" true true false 10 Long 0 10,First,#,D:\\OneDrive - California Polytechnic State University\\02_RESEARCH_PROJECTS\\20_UrbanTrees\\Data\\CanopyCover\\out\\dc841dq9031_Clean_CCjoin.shp,COUNT,-1,-1;AREA \"AREA\" true true false 19 Double 0 0,First,#,D:\\OneDrive - California Polytechnic State University\\02_RESEARCH_PROJECTS\\20_UrbanTrees\\Data\\CanopyCover\\out\\dc841dq9031_Clean_CCjoin.shp,AREA,-1,-1;MIN \"MIN\" true true false 10 Long 0 10,First,#,D:\\OneDrive - California Polytechnic State University\\02_RESEARCH_PROJECTS\\20_UrbanTrees\\Data\\CanopyCover\\out\\dc841dq9031_Clean_CCjoin.shp,MIN,-1,-1;MAX \"MAX\" true true false 10 Long 0 10,First,#,D:\\OneDrive - California Polytechnic State University\\02_RESEARCH_PROJECTS\\20_UrbanTrees\\Data\\CanopyCover\\out\\dc841dq9031_Clean_CCjoin.shp,MAX,-1,-1;RANGE \"RANGE\" true true false 10 Long 0 10,First,#,D:\\OneDrive - California Polytechnic State University\\02_RESEARCH_PROJECTS\\20_UrbanTrees\\Data\\CanopyCover\\out\\dc841dq9031_Clean_CCjoin.shp,RANGE,-1,-1;MEAN \"MEAN\" true true false 19 Double 0 0,First,#,D:\\OneDrive - California Polytechnic State University\\02_RESEARCH_PROJECTS\\20_UrbanTrees\\Data\\CanopyCover\\out\\dc841dq9031_Clean_CCjoin.shp,MEAN,-1,-1;STD \"STD\" true true false 19 Double 0 0,First,#,D:\\OneDrive - California Polytechnic State University\\02_RESEARCH_PROJECTS\\20_UrbanTrees\\Data\\CanopyCover\\out\\dc841dq9031_Clean_CCjoin.shp,STD,-1,-1;SUM \"SUM\" true true false 19 Double 0 0,First,#,D:\\OneDrive - California Polytechnic State University\\02_RESEARCH_PROJECTS\\20_UrbanTrees\\Data\\CanopyCover\\out\\dc841dq9031_Clean_CCjoin.shp,SUM,-1,-1;VARIETY \"VARIETY\" true true false 10 Long 0 10,First,#,D:\\OneDrive - California Polytechnic State University\\02_RESEARCH_PROJECTS\\20_UrbanTrees\\Data\\CanopyCover\\out\\dc841dq9031_Clean_CCjoin.shp,VARIETY,-1,-1;MAJORITY \"MAJORITY\" true true false 10 Long 0 10,First,#,D:\\OneDrive - California Polytechnic State University\\02_RESEARCH_PROJECTS\\20_UrbanTrees\\Data\\CanopyCover\\out\\dc841dq9031_Clean_CCjoin.shp,MAJORITY,-1,-1;MINORITY \"MINORITY\" true true false 10 Long 0 10,First,#,D:\\OneDrive - California Polytechnic State University\\02_RESEARCH_PROJECTS\\20_UrbanTrees\\Data\\CanopyCover\\out\\dc841dq9031_Clean_CCjoin.shp,MINORITY,-1,-1;MEDIAN \"MEDIAN\" true true false 10 Long 0 10,First,#,D:\\OneDrive - California Polytechnic State University\\02_RESEARCH_PROJECTS\\20_UrbanTrees\\Data\\CanopyCover\\out\\dc841dq9031_Clean_CCjoin.shp,MEDIAN,-1,-1;zcta_12 \"zcta_12\" true true false 5 Text 0 0,First,#,D:\\OneDrive - California Polytechnic State University\\02_RESEARCH_PROJECTS\\20_UrbanTrees\\Data\\CanopyCover\\out\\dc841dq9031_Clean_CCjoin.shp,zcta_12,0,5;ZONE_COD_1 \"ZONE_COD_1\" true true false 10 Long 0 10,First,#,D:\\OneDrive - California Polytechnic State University\\02_RESEARCH_PROJECTS\\20_UrbanTrees\\Data\\CanopyCover\\out\\dc841dq9031_Clean_CCjoin.shp,ZONE_COD_1,-1,-1;COUNT_1 \"COUNT_1\" true true false 10 Long 0 10,First,#,D:\\OneDrive - California Polytechnic State University\\02_RESEARCH_PROJECTS\\20_UrbanTrees\\Data\\CanopyCover\\out\\dc841dq9031_Clean_CCjoin.shp,COUNT_1,-1,-1;AREA_1 \"AREA_1\" true true false 19 Double 0 0,First,#,D:\\OneDrive - California Polytechnic State University\\02_RESEARCH_PROJECTS\\20_UrbanTrees\\Data\\CanopyCover\\out\\dc841dq9031_Clean_CCjoin.shp,AREA_1,-1,-1;MIN_1 \"MIN_1\" true true false 10 Long 0 10,First,#,D:\\OneDrive - California Polytechnic State University\\02_RESEARCH_PROJECTS\\20_UrbanTrees\\Data\\CanopyCover\\out\\dc841dq9031_Clean_CCjoin.shp,MIN_1,-1,-1;MAX_1 \"MAX_1\" true true false 10 Long 0 10,First,#,D:\\OneDrive - California Polytechnic State University\\02_RESEARCH_PROJECTS\\20_UrbanTrees\\Data\\CanopyCover\\out\\dc841dq9031_Clean_CCjoin.shp,MAX_1,-1,-1;RANGE_1 \"RANGE_1\" true true false 10 Long 0 10,First,#,D:\\OneDrive - California Polytechnic State University\\02_RESEARCH_PROJECTS\\20_UrbanTrees\\Data\\CanopyCover\\out\\dc841dq9031_Clean_CCjoin.shp,RANGE_1,-1,-1;MEAN_1 \"MEAN_1\" true true false 19 Double 0 0,First,#,D:\\OneDrive - California Polytechnic State University\\02_RESEARCH_PROJECTS\\20_UrbanTrees\\Data\\CanopyCover\\out\\dc841dq9031_Clean_CCjoin.shp,MEAN_1,-1,-1;STD_1 \"STD_1\" true true false 19 Double 0 0,First,#,D:\\OneDrive - California Polytechnic State University\\02_RESEARCH_PROJECTS\\20_UrbanTrees\\Data\\CanopyCover\\out\\dc841dq9031_Clean_CCjoin.shp,STD_1,-1,-1;SUM_1 \"SUM_1\" true true false 19 Double 0 0,First,#,D:\\OneDrive - California Polytechnic State University\\02_RESEARCH_PROJECTS\\20_UrbanTrees\\Data\\CanopyCover\\out\\dc841dq9031_Clean_CCjoin.shp,SUM_1,-1,-1;VARIETY_1 \"VARIETY_1\" true true false 10 Long 0 10,First,#,D:\\OneDrive - California Polytechnic State University\\02_RESEARCH_PROJECTS\\20_UrbanTrees\\Data\\CanopyCover\\out\\dc841dq9031_Clean_CCjoin.shp,VARIETY_1,-1,-1;MAJORITY_1 \"MAJORITY_1\" true true false 10 Long 0 10,First,#,D:\\OneDrive - California Polytechnic State University\\02_RESEARCH_PROJECTS\\20_UrbanTrees\\Data\\CanopyCover\\out\\dc841dq9031_Clean_CCjoin.shp,MAJORITY_1,-1,-1;MINORITY_1 \"MINORITY_1\" true true false 10 Long 0 10,First,#,D:\\OneDrive - California Polytechnic State University\\02_RESEARCH_PROJECTS\\20_UrbanTrees\\Data\\CanopyCover\\out\\dc841dq9031_Clean_CCjoin.shp,MINORITY_1,-1,-1;MEDIAN_1 \"MEDIAN_1\" true true false 10 Long 0 10,First,#,D:\\OneDrive - California Polytechnic State University\\02_RESEARCH_PROJECTS\\20_UrbanTrees\\Data\\CanopyCover\\out\\dc841dq9031_Clean_CCjoin.shp,MEDIAN_1,-1,-1', '')\n",
    "print(\"Done exporting Zips Canopy Cover CSV text file\")"
   ]
  },
  {
   "cell_type": "code",
   "execution_count": null,
   "metadata": {},
   "outputs": [],
   "source": []
  }
 ],
 "metadata": {
  "kernelspec": {
   "display_name": "ArcGISPro",
   "language": "Python",
   "name": "python3"
  },
  "language_info": {
   "file_extension": ".py",
   "name": "python",
   "version": "3"
  }
 },
 "nbformat": 4,
 "nbformat_minor": 2
}
